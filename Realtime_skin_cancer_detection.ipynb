{
  "nbformat": 4,
  "nbformat_minor": 0,
  "metadata": {
    "colab": {
      "name": "Realtime skin  cancer detection",
      "provenance": [],
      "collapsed_sections": []
    },
    "kernelspec": {
      "name": "python3",
      "display_name": "Python 3"
    },
    "accelerator": "GPU"
  },
  "cells": [
    {
      "cell_type": "markdown",
      "metadata": {
        "id": "gE3azXoR_pWi"
      },
      "source": [
        "#Step 1 - Cloning and Building Darknet\n"
      ]
    },
    {
      "cell_type": "code",
      "metadata": {
        "id": "68eMertgIxaB"
      },
      "source": [
        "# clone darknet repo\n",
        "!git clone https://github.com/AlexeyAB/darknet"
      ],
      "execution_count": null,
      "outputs": []
    },
    {
      "cell_type": "code",
      "metadata": {
        "id": "xym8_m8CIyXK"
      },
      "source": [
        "# change makefile to have GPU and OPENCV enabled\n",
        "%cd darknet\n",
        "!sed -i 's/OPENCV=0/OPENCV=1/' Makefile\n",
        "!sed -i 's/GPU=0/GPU=1/' Makefile\n",
        "!sed -i 's/CUDNN=0/CUDNN=1/' Makefile\n",
        "!sed -i 's/CUDNN_HALF=0/CUDNN_HALF=1/' Makefile"
      ],
      "execution_count": null,
      "outputs": []
    },
    {
      "cell_type": "code",
      "metadata": {
        "id": "5uloUwmUKF05"
      },
      "source": [
        "# verify CUDA\n",
        "!/usr/local/cuda/bin/nvcc --version"
      ],
      "execution_count": null,
      "outputs": []
    },
    {
      "cell_type": "code",
      "metadata": {
        "id": "q2Jjv0yRKLPe"
      },
      "source": [
        "# make darknet (builds darknet so that you can then use the darknet executable file to run or train object detectors)\n",
        "!make"
      ],
      "execution_count": null,
      "outputs": []
    },
    {
      "cell_type": "markdown",
      "metadata": {
        "id": "ikgv38AdKldo"
      },
      "source": [
        "#Step 2 - Download YOLOv4 weights\n",
        "YOLOv4 has been trained already on the coco dataset which has 80 classes that it can predict. We will grab these pretrained weights so that we can run YOLOv4 on these pretrained classes and get detections."
      ]
    },
    {
      "cell_type": "code",
      "metadata": {
        "id": "vVtgyY_ELoSf"
      },
      "source": [
        "!wget https://github.com/AlexeyAB/darknet/releases/download/darknet_yolo_v3_optimal/yolov4.weights"
      ],
      "execution_count": null,
      "outputs": []
    },
    {
      "cell_type": "markdown",
      "metadata": {
        "id": "xn7TpB-UMBWf"
      },
      "source": [
        "# Step 3 - Define Helper Functions\n",
        "\n",
        "These three functions are helper functions that will allow you to show the image in your Colab Notebook after running your detections, as well as upload and download images to and from your Cloud VM."
      ]
    },
    {
      "cell_type": "code",
      "metadata": {
        "id": "G9Fv0wjCMPYY"
      },
      "source": [
        "# define helper functions\n",
        "def imShow(path):\n",
        "  import cv2\n",
        "  import matplotlib.pyplot as plt\n",
        "  %matplotlib inline\n",
        "\n",
        "  image = cv2.imread(path)\n",
        "  height, width = image.shape[:2]\n",
        "  resized_image = cv2.resize(image,(3*width, 3*height), interpolation = cv2.INTER_CUBIC)\n",
        "\n",
        "  fig = plt.gcf()\n",
        "  fig.set_size_inches(18, 10)\n",
        "  plt.axis(\"off\")\n",
        "  plt.imshow(cv2.cvtColor(resized_image, cv2.COLOR_BGR2RGB))\n",
        "  plt.show()\n",
        "\n",
        "# use this to upload files\n",
        "def upload():\n",
        "  from google.colab import files\n",
        "  uploaded = files.upload() \n",
        "  for name, data in uploaded.items():\n",
        "    with open(name, 'wb') as f:\n",
        "      f.write(data)\n",
        "      print ('saved file', name)\n",
        "\n",
        "# use this to download a file  \n",
        "def download(path):\n",
        "  from google.colab import files\n",
        "  files.download(path)"
      ],
      "execution_count": null,
      "outputs": []
    },
    {
      "cell_type": "markdown",
      "metadata": {
        "id": "fGKcGR_kZAU7"
      },
      "source": [
        "### Mounting Google Drive\n"
      ]
    },
    {
      "cell_type": "code",
      "metadata": {
        "id": "uMLpWp-DZSZY"
      },
      "source": [
        "%cd ..\n",
        "from google.colab import drive\n",
        "drive.mount('/content/gdrive')"
      ],
      "execution_count": null,
      "outputs": []
    },
    {
      "cell_type": "code",
      "metadata": {
        "id": "bBFiu7rFZdmU"
      },
      "source": [
        "# this creates a symbolic link so that now the path /content/gdrive/My\\ Drive/ is equal to /mydrive\n",
        "!ln -s /content/gdrive/My\\ Drive/ /mydrive\n",
        "!ls /mydrive/"
      ],
      "execution_count": null,
      "outputs": []
    },
    {
      "cell_type": "code",
      "metadata": {
        "id": "JafIRIU0Z6UQ"
      },
      "source": [
        "# cd back into the darknet folder to run detections\n",
        "%cd darknet"
      ],
      "execution_count": null,
      "outputs": []
    },
    {
      "cell_type": "markdown",
      "metadata": {
        "id": "LPpfxAGA2Ldb"
      },
      "source": [
        "# Step 4 - Multiple Images at Once"
      ]
    },
    {
      "cell_type": "code",
      "metadata": {
        "id": "YL--CsG0Vevs"
      },
      "source": [
        "# this is where my datasets are stored within my Google Drive (I created a yolov4 folder to store all important files for custom training) \n",
        "!ls /mydrive/yolov4"
      ],
      "execution_count": null,
      "outputs": []
    },
    {
      "cell_type": "code",
      "metadata": {
        "id": "zqLQF0fNWJro"
      },
      "source": [
        "# copy over both datasets into the root directory of the Colab VM (comment out test.zip if you are not using a validation dataset)\n",
        "!cp /mydrive/yolov4/obj.zip ../\n",
        "!cp /mydrive/yolov4/test.zip ../"
      ],
      "execution_count": null,
      "outputs": []
    },
    {
      "cell_type": "code",
      "metadata": {
        "id": "A9mYUoKOWWlR"
      },
      "source": [
        "# unzip the datasets and their contents so that they are now in /darknet/data/ folder\n",
        "!unzip ../obj.zip -d data/\n",
        "!unzip ../test.zip -d data/"
      ],
      "execution_count": null,
      "outputs": []
    },
    {
      "cell_type": "markdown",
      "metadata": {
        "id": "SWjNcjfcXKgx"
      },
      "source": [
        "# Step 5 - Configuring Files for Training\n",
        "This step involves properly configuring your custom .cfg, obj.data, obj.names, train.txt and test.txt files.\n",
        "\n",
        "It is important to configure all these files with extreme caution as typos or small errors can cause major problems with your custom training."
      ]
    },
    {
      "cell_type": "code",
      "metadata": {
        "id": "kXkXb1tlLCnE"
      },
      "source": [
        "# upload the custom .cfg back to cloud VM from Google Drive\n",
        "!cp /mydrive/yolov4/yolov4-obj.cfg ./cfg"
      ],
      "execution_count": null,
      "outputs": []
    },
    {
      "cell_type": "code",
      "metadata": {
        "id": "1vuqvzvLUtw2"
      },
      "source": [
        "# upload the obj.names and obj.data files to cloud VM from Google Drive\n",
        "!cp /mydrive/yolov4/obj.names ./data\n",
        "!cp /mydrive/yolov4/obj.data  ./data"
      ],
      "execution_count": null,
      "outputs": []
    },
    {
      "cell_type": "code",
      "metadata": {
        "id": "4mgiK3C2ZF0k"
      },
      "source": [
        "# upload the generate_train.py and generate_test.py script to cloud VM from Google Drive\n",
        "!cp /mydrive/yolov4/generate_train.py ./\n",
        "!cp /mydrive/yolov4/generate_test.py ./"
      ],
      "execution_count": null,
      "outputs": []
    },
    {
      "cell_type": "markdown",
      "metadata": {
        "id": "eq9gDuAaJWM6"
      },
      "source": [
        "Now simply run both scripts to do the work for you of generating the two txt files."
      ]
    },
    {
      "cell_type": "code",
      "metadata": {
        "id": "DAKjJSJwJb5R"
      },
      "source": [
        "!python generate_train.py\n",
        "!python generate_test.py"
      ],
      "execution_count": null,
      "outputs": []
    },
    {
      "cell_type": "code",
      "metadata": {
        "id": "nv5yDQptaJRE"
      },
      "source": [
        "# verify that the newly generated train.txt and test.txt can be seen in our darknet/data folder\n",
        "!ls data/"
      ],
      "execution_count": null,
      "outputs": []
    },
    {
      "cell_type": "markdown",
      "metadata": {
        "id": "nrkC4l-PbmNS"
      },
      "source": [
        "# Step 6 - Download weights for the convolutional layers.\n",
        "This step downloads the weights for the convolutional layers of the YOLOv4 network. By using these weights it helps your custom object detector to be way more accurate and not have to train as long."
      ]
    },
    {
      "cell_type": "code",
      "metadata": {
        "id": "KcUKbtO-byOE"
      },
      "source": [
        "!wget https://github.com/AlexeyAB/darknet/releases/download/darknet_yolo_v3_optimal/yolov4.conv.137"
      ],
      "execution_count": null,
      "outputs": []
    },
    {
      "cell_type": "markdown",
      "metadata": {
        "id": "POozxsvFdXTu"
      },
      "source": [
        "# Step 7 - Train custom skin cancer detector"
      ]
    },
    {
      "cell_type": "code",
      "metadata": {
        "id": "34fM8Nq2KUXM"
      },
      "source": [
        "!pip install cuda"
      ],
      "execution_count": null,
      "outputs": []
    },
    {
      "cell_type": "code",
      "metadata": {
        "id": "imc0NP19hLuq"
      },
      "source": [
        "# train your custom detector! (uncomment %%capture below if you run into memory issues or your Colab is crashing)\n",
        "# %%capture\n",
        "!./darknet detector train data/obj.data cfg/yolov4-obj.cfg yolov4.conv.137 -dont_show -map"
      ],
      "execution_count": null,
      "outputs": []
    },
    {
      "cell_type": "markdown",
      "metadata": {
        "id": "5GjIkYFjhnYL"
      },
      "source": [
        "After training, you can observe a chart of how your model did throughout the training process by running the below command. It shows a chart of your average loss vs. iterations. For your model to be 'accurate' you should aim for a loss under 2."
      ]
    },
    {
      "cell_type": "code",
      "metadata": {
        "id": "uXPGYKmchv7Z"
      },
      "source": [
        "# show chart.png of how custom object detector did with training\n",
        "imShow('chart.png')"
      ],
      "execution_count": null,
      "outputs": []
    },
    {
      "cell_type": "code",
      "metadata": {
        "id": "Fl7PsmikjCBW"
      },
      "source": [
        "# kick off training from where it last saved\n",
        "!./darknet detector train data/obj.data cfg/yolov4-obj.cfg /mydrive/yolov4/backup/yolov4-obj_last.weights -dont_show -map"
      ],
      "execution_count": null,
      "outputs": []
    },
    {
      "cell_type": "markdown",
      "metadata": {
        "id": "voia4UtxlPMa"
      },
      "source": [
        "# Step 9 - Checking the Mean Average Precision (mAP) of Your Model\n"
      ]
    },
    {
      "cell_type": "code",
      "metadata": {
        "id": "2UoSBmTFlNep"
      },
      "source": [
        "!./darknet detector map data/obj.data cfg/yolov4-obj.cfg /mydrive/yolov4/backup/yolov4-obj_best.weights"
      ],
      "execution_count": null,
      "outputs": []
    },
    {
      "cell_type": "markdown",
      "metadata": {
        "id": "8dfPY2h39m-T"
      },
      "source": [
        "# Step 10 -  Run skin cancer lesion detector"
      ]
    },
    {
      "cell_type": "code",
      "metadata": {
        "id": "xXkZNeA09o2f"
      },
      "source": [
        "# need to set our custom cfg to test mode \n",
        "%cd cfg\n",
        "!sed -i 's/batch=64/batch=1/' yolov4-obj.cfg\n",
        "!sed -i 's/subdivisions=16/subdivisions=1/' yolov4-obj.cfg\n",
        "%cd .."
      ],
      "execution_count": null,
      "outputs": []
    },
    {
      "cell_type": "code",
      "metadata": {
        "id": "o7IIzEal90dA"
      },
      "source": [
        "# run your custom detector with this command (upload an image to your google drive to test, thresh flag sets accuracy that detection must be in order to show it)\n",
        "!./darknet detector test data/obj.data cfg/yolov4-obj.cfg /mydrive/yolov4/backup/yolov4-obj_last.weights /mydrive/images/car2.jpg -thresh 0.3\n",
        "imShow('predictions.jpg')"
      ],
      "execution_count": null,
      "outputs": []
    }
  ]
}